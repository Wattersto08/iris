{
 "cells": [
  {
   "cell_type": "markdown",
   "id": "1f12def7-95a6-4b6b-9d71-1e5f36c44a8f",
   "metadata": {},
   "source": [
    "To create Haar cascades from a given set of images, you can use the OpenCV library in Python. The process involves several steps, including preparing your images, creating a positive samples file, and then using OpenCV's `opencv_traincascade` command to train the cascade classifier.\n",
    "\n",
    "Here's a step-by-step guide along with a script to help you get started:\n",
    "\n",
    "1. **Prepare your images**: You need a set of positive images (images containing the object you want to detect) and negative images (images without the object).\n",
    "\n",
    "2. **Create a positive samples file**: You can use OpenCV's `opencv_createsamples` tool to create a vector file from your positive images.\n",
    "\n",
    "3. **Train the cascade**: Use the `opencv_traincascade` command to train the Haar cascade classifier.\n",
    "\n",
    "Here’s a Python script that outlines the steps to create Haar cascades:"
   ]
  },
  {
   "cell_type": "code",
   "execution_count": 3,
   "id": "f8286ccb-8102-4724-a8f3-62a703e678ba",
   "metadata": {},
   "outputs": [],
   "source": [
    "import os\n",
    "import cv2\n",
    "import numpy as np\n",
    "\n",
    "# Paths\n",
    "positive_images_path = 'path/to/positive/images'\n",
    "negative_images_path = 'path/to/negative/images'\n",
    "output_path = 'GrapeLeaf'\n",
    "num_pos_samples = 1000  # Number of positive samples to create\n",
    "num_neg_samples = 1000  # Number of negative samples to use\n",
    "\n",
    "# Step 1: Create a vector file from positive images\n",
    "def create_positive_samples(positive_images_path, output_path, num_pos_samples):\n",
    "    os.system(f\"opencv_createsamples -info {positive_images_path}/info.txt -num {num_pos_samples} -w 24 -h 24 -vec {output_path}/positives.vec\")\n",
    "\n",
    "# Step 2: Create a negative samples file\n",
    "def create_negative_samples(negative_images_path, output_path, num_neg_samples):\n",
    "    os.system(f\"opencv_createsamples -info {negative_images_path}/info.txt -num {num_neg_samples} -w 24 -h 24 -vec {output_path}/negatives.vec\")\n",
    "\n",
    "# Step 3: Train the cascade\n",
    "def train_cascade(output_path):\n",
    "    os.system(f\"opencv_traincascade -data {output_path}/cascade -vec {output_path}/positives.vec -bg {output_path}/negatives.txt -numPos 1000 -numNeg 1000 -numStages 10 -featureType HAAR -w 24 -h 24\")\n",
    "\n",
    "# Main function to execute the steps\n",
    "def main():\n",
    "    create_positive_samples(positive_images_path, output_path, num_pos_samples)\n",
    "    create_negative_samples(negative_images_path, output_path, num_neg_samples)\n",
    "    train_cascade(output_path)\n",
    "\n",
    "\n",
    "main()"
   ]
  },
  {
   "cell_type": "markdown",
   "id": "f16f5cf3-b254-4267-8088-0323f8885275",
   "metadata": {},
   "source": [
    "### Notes:\n",
    "- Make sure to replace the paths with your actual directories.\n",
    "- You need to create an `info.txt` file in the positive images directory that lists the paths of the positive images and their bounding boxes.\n",
    "- The negative images should be listed in a `negatives.txt` file.\n",
    "- Ensure you have OpenCV installed and properly configured in your environment.\n",
    "\n",
    "### Required Packages:\n",
    "- OpenCV: You can install it using `pip install opencv-python`.\n",
    "\n",
    "This script provides a basic framework for creating Haar cascades. You may need to adjust parameters based on your specific dataset and requirements."
   ]
  },
  {
   "cell_type": "code",
   "execution_count": 5,
   "id": "eba3a9c4",
   "metadata": {},
   "outputs": [
    {
     "data": {
      "text/plain": [
       "1"
      ]
     },
     "execution_count": 5,
     "metadata": {},
     "output_type": "execute_result"
    }
   ],
   "source": []
  }
 ],
 "metadata": {
  "kernelspec": {
   "display_name": "base",
   "language": "python",
   "name": "python3"
  },
  "language_info": {
   "codemirror_mode": {
    "name": "ipython",
    "version": 3
   },
   "file_extension": ".py",
   "mimetype": "text/x-python",
   "name": "python",
   "nbconvert_exporter": "python",
   "pygments_lexer": "ipython3",
   "version": "3.12.7"
  }
 },
 "nbformat": 4,
 "nbformat_minor": 5
}
